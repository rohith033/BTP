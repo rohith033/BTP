{
  "nbformat": 4,
  "nbformat_minor": 0,
  "metadata": {
    "colab": {
      "provenance": [],
      "authorship_tag": "ABX9TyNPdxJju/RjJwueKDVjefuc",
      "include_colab_link": true
    },
    "kernelspec": {
      "name": "python3",
      "display_name": "Python 3"
    },
    "language_info": {
      "name": "python"
    }
  },
  "cells": [
    {
      "cell_type": "markdown",
      "metadata": {
        "id": "view-in-github",
        "colab_type": "text"
      },
      "source": [
        "<a href=\"https://colab.research.google.com/github/rohith033/BTP/blob/main/version_2_dqn.ipynb\" target=\"_parent\"><img src=\"https://colab.research.google.com/assets/colab-badge.svg\" alt=\"Open In Colab\"/></a>"
      ]
    },
    {
      "cell_type": "code",
      "source": [
        "!pip install 'shimmy'\n",
        "!pip install stable-baselines3"
      ],
      "metadata": {
        "colab": {
          "base_uri": "https://localhost:8080/"
        },
        "id": "77StUkyj807k",
        "outputId": "06ac4bac-fd2a-4516-8656-173f87908b54"
      },
      "execution_count": null,
      "outputs": [
        {
          "output_type": "stream",
          "name": "stdout",
          "text": [
            "Collecting shimmy\n",
            "  Downloading Shimmy-1.3.0-py3-none-any.whl (37 kB)\n",
            "Requirement already satisfied: numpy>=1.18.0 in /usr/local/lib/python3.10/dist-packages (from shimmy) (1.25.2)\n",
            "Collecting gymnasium>=0.27.0 (from shimmy)\n",
            "  Downloading gymnasium-0.29.1-py3-none-any.whl (953 kB)\n",
            "\u001b[2K     \u001b[90m━━━━━━━━━━━━━━━━━━━━━━━━━━━━━━━━━━━━━━━━\u001b[0m \u001b[32m953.9/953.9 kB\u001b[0m \u001b[31m8.6 MB/s\u001b[0m eta \u001b[36m0:00:00\u001b[0m\n",
            "\u001b[?25hRequirement already satisfied: cloudpickle>=1.2.0 in /usr/local/lib/python3.10/dist-packages (from gymnasium>=0.27.0->shimmy) (2.2.1)\n",
            "Requirement already satisfied: typing-extensions>=4.3.0 in /usr/local/lib/python3.10/dist-packages (from gymnasium>=0.27.0->shimmy) (4.11.0)\n",
            "Collecting farama-notifications>=0.0.1 (from gymnasium>=0.27.0->shimmy)\n",
            "  Downloading Farama_Notifications-0.0.4-py3-none-any.whl (2.5 kB)\n",
            "Installing collected packages: farama-notifications, gymnasium, shimmy\n",
            "Successfully installed farama-notifications-0.0.4 gymnasium-0.29.1 shimmy-1.3.0\n",
            "Collecting stable-baselines3\n",
            "  Downloading stable_baselines3-2.3.2-py3-none-any.whl (182 kB)\n",
            "\u001b[2K     \u001b[90m━━━━━━━━━━━━━━━━━━━━━━━━━━━━━━━━━━━━━━━━\u001b[0m \u001b[32m182.3/182.3 kB\u001b[0m \u001b[31m2.2 MB/s\u001b[0m eta \u001b[36m0:00:00\u001b[0m\n",
            "\u001b[?25hRequirement already satisfied: gymnasium<0.30,>=0.28.1 in /usr/local/lib/python3.10/dist-packages (from stable-baselines3) (0.29.1)\n",
            "Requirement already satisfied: numpy>=1.20 in /usr/local/lib/python3.10/dist-packages (from stable-baselines3) (1.25.2)\n",
            "Requirement already satisfied: torch>=1.13 in /usr/local/lib/python3.10/dist-packages (from stable-baselines3) (2.2.1+cu121)\n",
            "Requirement already satisfied: cloudpickle in /usr/local/lib/python3.10/dist-packages (from stable-baselines3) (2.2.1)\n",
            "Requirement already satisfied: pandas in /usr/local/lib/python3.10/dist-packages (from stable-baselines3) (2.0.3)\n",
            "Requirement already satisfied: matplotlib in /usr/local/lib/python3.10/dist-packages (from stable-baselines3) (3.7.1)\n",
            "Requirement already satisfied: typing-extensions>=4.3.0 in /usr/local/lib/python3.10/dist-packages (from gymnasium<0.30,>=0.28.1->stable-baselines3) (4.11.0)\n",
            "Requirement already satisfied: farama-notifications>=0.0.1 in /usr/local/lib/python3.10/dist-packages (from gymnasium<0.30,>=0.28.1->stable-baselines3) (0.0.4)\n",
            "Requirement already satisfied: filelock in /usr/local/lib/python3.10/dist-packages (from torch>=1.13->stable-baselines3) (3.13.4)\n",
            "Requirement already satisfied: sympy in /usr/local/lib/python3.10/dist-packages (from torch>=1.13->stable-baselines3) (1.12)\n",
            "Requirement already satisfied: networkx in /usr/local/lib/python3.10/dist-packages (from torch>=1.13->stable-baselines3) (3.3)\n",
            "Requirement already satisfied: jinja2 in /usr/local/lib/python3.10/dist-packages (from torch>=1.13->stable-baselines3) (3.1.3)\n",
            "Requirement already satisfied: fsspec in /usr/local/lib/python3.10/dist-packages (from torch>=1.13->stable-baselines3) (2023.6.0)\n",
            "Collecting nvidia-cuda-nvrtc-cu12==12.1.105 (from torch>=1.13->stable-baselines3)\n",
            "  Using cached nvidia_cuda_nvrtc_cu12-12.1.105-py3-none-manylinux1_x86_64.whl (23.7 MB)\n",
            "Collecting nvidia-cuda-runtime-cu12==12.1.105 (from torch>=1.13->stable-baselines3)\n",
            "  Using cached nvidia_cuda_runtime_cu12-12.1.105-py3-none-manylinux1_x86_64.whl (823 kB)\n",
            "Collecting nvidia-cuda-cupti-cu12==12.1.105 (from torch>=1.13->stable-baselines3)\n",
            "  Using cached nvidia_cuda_cupti_cu12-12.1.105-py3-none-manylinux1_x86_64.whl (14.1 MB)\n",
            "Collecting nvidia-cudnn-cu12==8.9.2.26 (from torch>=1.13->stable-baselines3)\n",
            "  Using cached nvidia_cudnn_cu12-8.9.2.26-py3-none-manylinux1_x86_64.whl (731.7 MB)\n",
            "Collecting nvidia-cublas-cu12==12.1.3.1 (from torch>=1.13->stable-baselines3)\n",
            "  Using cached nvidia_cublas_cu12-12.1.3.1-py3-none-manylinux1_x86_64.whl (410.6 MB)\n",
            "Collecting nvidia-cufft-cu12==11.0.2.54 (from torch>=1.13->stable-baselines3)\n",
            "  Using cached nvidia_cufft_cu12-11.0.2.54-py3-none-manylinux1_x86_64.whl (121.6 MB)\n",
            "Collecting nvidia-curand-cu12==10.3.2.106 (from torch>=1.13->stable-baselines3)\n",
            "  Using cached nvidia_curand_cu12-10.3.2.106-py3-none-manylinux1_x86_64.whl (56.5 MB)\n",
            "Collecting nvidia-cusolver-cu12==11.4.5.107 (from torch>=1.13->stable-baselines3)\n",
            "  Using cached nvidia_cusolver_cu12-11.4.5.107-py3-none-manylinux1_x86_64.whl (124.2 MB)\n",
            "Collecting nvidia-cusparse-cu12==12.1.0.106 (from torch>=1.13->stable-baselines3)\n",
            "  Using cached nvidia_cusparse_cu12-12.1.0.106-py3-none-manylinux1_x86_64.whl (196.0 MB)\n",
            "Collecting nvidia-nccl-cu12==2.19.3 (from torch>=1.13->stable-baselines3)\n",
            "  Using cached nvidia_nccl_cu12-2.19.3-py3-none-manylinux1_x86_64.whl (166.0 MB)\n",
            "Collecting nvidia-nvtx-cu12==12.1.105 (from torch>=1.13->stable-baselines3)\n",
            "  Using cached nvidia_nvtx_cu12-12.1.105-py3-none-manylinux1_x86_64.whl (99 kB)\n",
            "Requirement already satisfied: triton==2.2.0 in /usr/local/lib/python3.10/dist-packages (from torch>=1.13->stable-baselines3) (2.2.0)\n",
            "Collecting nvidia-nvjitlink-cu12 (from nvidia-cusolver-cu12==11.4.5.107->torch>=1.13->stable-baselines3)\n",
            "  Using cached nvidia_nvjitlink_cu12-12.4.127-py3-none-manylinux2014_x86_64.whl (21.1 MB)\n",
            "Requirement already satisfied: contourpy>=1.0.1 in /usr/local/lib/python3.10/dist-packages (from matplotlib->stable-baselines3) (1.2.1)\n",
            "Requirement already satisfied: cycler>=0.10 in /usr/local/lib/python3.10/dist-packages (from matplotlib->stable-baselines3) (0.12.1)\n",
            "Requirement already satisfied: fonttools>=4.22.0 in /usr/local/lib/python3.10/dist-packages (from matplotlib->stable-baselines3) (4.51.0)\n",
            "Requirement already satisfied: kiwisolver>=1.0.1 in /usr/local/lib/python3.10/dist-packages (from matplotlib->stable-baselines3) (1.4.5)\n",
            "Requirement already satisfied: packaging>=20.0 in /usr/local/lib/python3.10/dist-packages (from matplotlib->stable-baselines3) (24.0)\n",
            "Requirement already satisfied: pillow>=6.2.0 in /usr/local/lib/python3.10/dist-packages (from matplotlib->stable-baselines3) (9.4.0)\n",
            "Requirement already satisfied: pyparsing>=2.3.1 in /usr/local/lib/python3.10/dist-packages (from matplotlib->stable-baselines3) (3.1.2)\n",
            "Requirement already satisfied: python-dateutil>=2.7 in /usr/local/lib/python3.10/dist-packages (from matplotlib->stable-baselines3) (2.8.2)\n",
            "Requirement already satisfied: pytz>=2020.1 in /usr/local/lib/python3.10/dist-packages (from pandas->stable-baselines3) (2023.4)\n",
            "Requirement already satisfied: tzdata>=2022.1 in /usr/local/lib/python3.10/dist-packages (from pandas->stable-baselines3) (2024.1)\n",
            "Requirement already satisfied: six>=1.5 in /usr/local/lib/python3.10/dist-packages (from python-dateutil>=2.7->matplotlib->stable-baselines3) (1.16.0)\n",
            "Requirement already satisfied: MarkupSafe>=2.0 in /usr/local/lib/python3.10/dist-packages (from jinja2->torch>=1.13->stable-baselines3) (2.1.5)\n",
            "Requirement already satisfied: mpmath>=0.19 in /usr/local/lib/python3.10/dist-packages (from sympy->torch>=1.13->stable-baselines3) (1.3.0)\n",
            "Installing collected packages: nvidia-nvtx-cu12, nvidia-nvjitlink-cu12, nvidia-nccl-cu12, nvidia-curand-cu12, nvidia-cufft-cu12, nvidia-cuda-runtime-cu12, nvidia-cuda-nvrtc-cu12, nvidia-cuda-cupti-cu12, nvidia-cublas-cu12, nvidia-cusparse-cu12, nvidia-cudnn-cu12, nvidia-cusolver-cu12, stable-baselines3\n",
            "Successfully installed nvidia-cublas-cu12-12.1.3.1 nvidia-cuda-cupti-cu12-12.1.105 nvidia-cuda-nvrtc-cu12-12.1.105 nvidia-cuda-runtime-cu12-12.1.105 nvidia-cudnn-cu12-8.9.2.26 nvidia-cufft-cu12-11.0.2.54 nvidia-curand-cu12-10.3.2.106 nvidia-cusolver-cu12-11.4.5.107 nvidia-cusparse-cu12-12.1.0.106 nvidia-nccl-cu12-2.19.3 nvidia-nvjitlink-cu12-12.4.127 nvidia-nvtx-cu12-12.1.105 stable-baselines3-2.3.2\n"
          ]
        }
      ]
    },
    {
      "cell_type": "code",
      "source": [
        "import numpy as np\n",
        "import gym\n",
        "from gym import spaces\n",
        "from stable_baselines3 import DQN\n",
        "from stable_baselines3.common.callbacks import EvalCallback\n",
        "from osgeo import gdal"
      ],
      "metadata": {
        "id": "ff3PB3EefKr3"
      },
      "execution_count": null,
      "outputs": []
    },
    {
      "cell_type": "markdown",
      "source": [],
      "metadata": {
        "id": "M_WUPFzCfjJe"
      }
    },
    {
      "cell_type": "code",
      "source": [
        "# Load the raster file\n",
        "raster = gdal.Open('/content/Depth (Max) (1).Terrain.needed_tif.tif')\n",
        "band = raster.GetRasterBand(1)  # Assuming depth is in band 1\n",
        "depth_data = band.ReadAsArray()\n",
        "# Get geotransformation\n",
        "geotransform = raster.GetGeoTransform()"
      ],
      "metadata": {
        "id": "7-wevZTZDLaN"
      },
      "execution_count": null,
      "outputs": []
    },
    {
      "cell_type": "code",
      "source": [
        "def get_flat_index_neighbors_with_diagonals(flat_index, num_rows, num_cols):\n",
        "    i = flat_index // num_cols\n",
        "    j = flat_index % num_cols\n",
        "    neighbors = {}\n",
        "\n",
        "    # Direct neighbors\n",
        "    if i > 0 and (i-1) * num_cols + j<num_rows*num_cols:\n",
        "        neighbors['top'] = (i-1) * num_cols + j\n",
        "    if i < num_rows - 1 and (i+1) * num_cols + j<num_rows*num_cols:\n",
        "        neighbors['bottom'] = (i+1) * num_cols + j\n",
        "    if j > 0 and i * num_cols + (j-1) < num_rows*num_cols :\n",
        "        neighbors['left'] = i * num_cols + (j-1)\n",
        "    if j < num_cols - 1 and i * num_cols + (j+1) < num_rows*num_cols:\n",
        "        neighbors['right'] = i * num_cols + (j+1)\n",
        "\n",
        "    # Diagonal neighbors\n",
        "    if i > 0 and j > 0 and (i-1) * num_cols + (j-1) < num_rows*num_cols:\n",
        "        neighbors['top_left'] = (i-1) * num_cols + (j-1)\n",
        "    if i > 0 and j < num_cols - 1 and (i-1) * num_cols + (j+1) <num_rows*num_cols:\n",
        "        neighbors['top_right'] = (i-1) * num_cols + (j+1)\n",
        "    if i < num_rows - 1 and j > 0 and (i+1) * num_cols + (j-1) < num_rows*num_cols:\n",
        "        neighbors['bottom_left'] = (i+1) * num_cols + (j-1)\n",
        "    if i < num_rows - 1 and j < num_cols - 1 and (i+1) * num_cols + (j+1)<num_rows*num_cols:\n",
        "        neighbors['bottom_right'] = (i+1) * num_cols + (j+1)\n",
        "\n",
        "    return neighbors"
      ],
      "metadata": {
        "id": "ZDcZ7oE9DkVO"
      },
      "execution_count": null,
      "outputs": []
    },
    {
      "cell_type": "code",
      "source": [
        "num_rows, num_cols = depth_data.shape\n",
        "lats = np.array([geotransform[3] + geotransform[5] * i for i in range(num_rows)])\n",
        "longs = np.array([geotransform[0] + geotransform[1] * j for j in range(num_cols)])\n",
        "# Create an empty list to store the data\n",
        "data_matrix = []\n",
        "\n",
        "# Iterate through each cell\n",
        "for i in range(num_rows):\n",
        "    for j in range(num_cols):\n",
        "        lat = lats[i]\n",
        "        lon = longs[j]\n",
        "        depth = depth_data[i, j]\n",
        "        data_matrix.append([lat, lon, depth])\n",
        "\n",
        "# Optionally convert to a numpy array for better handling\n",
        "data_matrix = np.array(data_matrix)\n",
        "data_matrix[data_matrix == -9999] = 0"
      ],
      "metadata": {
        "id": "CuRANPiyDPKW"
      },
      "execution_count": null,
      "outputs": []
    },
    {
      "cell_type": "code",
      "source": [
        "total_states =  4000\n",
        "environments = []"
      ],
      "metadata": {
        "id": "n09JBsi0DdPn"
      },
      "execution_count": null,
      "outputs": []
    },
    {
      "cell_type": "code",
      "source": [
        "def make_env(flat_index,base_env,i,j):\n",
        "  if i<0 or j<0 or i>8 or j>8 or base_env[i][j] != 0:\n",
        "    return\n",
        "  base_env[i][j] = data_matrix[flat_index][2]\n",
        "  if base_env[i][j] == 0:\n",
        "    base_env[i][j]  = 0.0001\n",
        "  space = get_flat_index_neighbors_with_diagonals(flat_index,num_rows,num_cols)\n",
        "  if 'top' in space:\n",
        "    make_env(space['top'],base_env,i-1,j)\n",
        "  if 'bottom' in space:\n",
        "    make_env(space['bottom'],base_env,i+1,j)\n",
        "  if 'left' in space:\n",
        "    make_env(space['left'],base_env,i,j-1)\n",
        "  if 'right' in space:\n",
        "    make_env(space['right'],base_env,i,j+1)\n",
        "  return"
      ],
      "metadata": {
        "id": "ZkU9Dsl5DaW_"
      },
      "execution_count": null,
      "outputs": []
    },
    {
      "cell_type": "code",
      "source": [
        "for flat_index , depth_info in enumerate(data_matrix):\n",
        "  if total_states == 0:\n",
        "    break\n",
        "  if depth_info[2] > 0.99:\n",
        "    total_states-=1\n",
        "    base_env = np.zeros((9,9))\n",
        "    make_env(flat_index,base_env,4,4)\n",
        "    environments.append(base_env)"
      ],
      "metadata": {
        "id": "FYbwM_4gDWMP"
      },
      "execution_count": null,
      "outputs": []
    },
    {
      "cell_type": "code",
      "source": [
        "\n",
        "land_data_1=['BCBCFBBFC',\n",
        " 'CCCCBBCCC',\n",
        " 'CBBCBBCCB',\n",
        " 'CCCCCCBCC',\n",
        " 'CCCCCCBBC',\n",
        " 'CFCFCCBCC',\n",
        " 'CCFCCCCCC',\n",
        " 'CBCFCBCFB',\n",
        " 'CBFFCCBBB']\n"
      ],
      "metadata": {
        "id": "Btp6ycDKqWIk"
      },
      "execution_count": null,
      "outputs": []
    },
    {
      "cell_type": "code",
      "execution_count": null,
      "metadata": {
        "id": "WzVpqwDc_ry0"
      },
      "outputs": [],
      "source": [
        "['CBBBFFCFC', 'CCCCCCBCB', 'CBBBBBCCB', 'CCCCCCCCC', 'CCCCCCBCC', 'CFCCFCCCC', 'CFCCCCCCC', 'BCCFCBFCB', 'FBCFCCBBB']\n",
        "['BBBBFCBBC', 'CCBCCCBCC', 'BBBCBBCCB', 'CBCCCCBCC', 'CCCCCCCBC', 'CFFCCCBCC', 'CCCCCCCCC', 'CBCFCBBFB', 'CCFBCCBBB']\n",
        "['BCBBCCCBC', 'CCCCBBCCC', 'CBCCBBBCB', 'CCCCCCCCC', 'CCCCCCCBB', 'CFCCBCCCC', 'CCFCFCCCF', 'BBCFCBBFB', 'CBFFCBBFB']\n",
        "['BCBCBBBFC', 'CCBCCBCCC', 'BBCBBBCBB', 'CCCCCCBCC', 'CCCCCCBBC', 'BCCFCCFCC', 'CCFFCCCCC', 'CBCFCBCBF', 'CBBFCCBBB']\n",
        "['CCBCBBBFC', 'CCCBBBCCC', 'BCBCBBCCB', 'CCCCCCBCC', 'CCCCCCCBC', 'CFCFCCBCC', 'CCFCFCCCC', 'CCBFCBCBC', 'CBCCCBBBF']\n",
        "['BCBCCBBCC', 'CCCCBBCCC', 'BBBBBCCCC', 'CCCCCCCCC', 'CCCCCCBBC', 'CCFFCCBCB', 'CCCCCCCCC', 'CBBBCFBBB', 'CBFFCCBBB']\n",
        "['BBBCBBBBC', 'CCCCCCCCB', 'BBBBCCCCC', 'BCCCCCCCC', 'CCCCCCBCC', 'CFCCBCCCC', 'CCCCCCCCC', 'CCBFCFCBB', 'CBFFCCBBB']\n",
        "['BBBCFBCFC', 'CCCCBCCCC', 'BBBBBBCBC', 'CCCCBCCBB', 'CCBCCCCCC', 'CCCFFCBCC', 'CCFCCCCCC', 'CBCBCBBBB', 'CBFFCCFBB']\n",
        "['BCCCFBBCB', 'BCCCCBCCC', 'CBBCCBBCB', 'CCCBCBCBC', 'BBCCBCBBC', 'CFCFCBCCF', 'CCCCCCFCC', 'CBFFFBCFC', 'BBFFCCCBB']\n",
        "['BCBCBBBBC', 'CCCCCBCCC', 'CBBBBBCCB', 'CCCCCCCCC', 'CCBCCCBBC', 'CFCFCBCCC', 'CCFCCCCCC', 'CBCCCBCFB', 'CBBFCCBBC']\n",
        "[['CBBBFFCFC', 'CCCCCCBCB', 'CBBBBBCCB', 'CCCCCCCCC', 'CCCCCCBCC', 'CFCCFCCCC', 'CFCCCCCCC', 'BCCFCBFCB', 'FBCFCCBBB'],\n",
        " ['BBBBFCBBC', 'CCBCCCBCC', 'BBBCBBCCB', 'CBCCCCBCC', 'CCCCCCCBC', 'CFFCCCBCC', 'CCCCCCCCC', 'CBCFCBBFB', 'CCFBCCBBB'],\n",
        "  ['BCBBCCCBC', 'CCCCBBCCC', 'CBCCBBBCB', 'CCCCCCCCC', 'CCCCCCCBB', 'CFCCBCCCC', 'CCFCFCCCF', 'BBCFCBBFB', 'CBFFCBBFB'],\n",
        "   ['BCBCBBBFC', 'CCBCCBCCC', 'BBCBBBCBB', 'CCCCCCBCC', 'CCCCCCBBC', 'BCCFCCFCC', 'CCFFCCCCC', 'CBCFCBCBF', 'CBBFCCBBB'],\n",
        "  ['CCBCBBBFC', 'CCCBBBCCC', 'BCBCBBCCB', 'CCCCCCBCC', 'CCCCCCCBC', 'CFCFCCBCC', 'CCFCFCCCC', 'CCBFCBCBC', 'CBCCCBBBF'],\n",
        "   ['BCBCCBBCC', 'CCCCBBCCC', 'BBBBBCCCC', 'CCCCCCCCC', 'CCCCCCBBC', 'CCFFCCBCB', 'CCCCCCCCC', 'CBBBCFBBB', 'CBFFCCBBB'],\n",
        "    ['BBBCBBBBC', 'CCCCCCCCB', 'BBBBCCCCC', 'BCCCCCCCC', 'CCCCCCBCC', 'CFCCBCCCC', 'CCCCCCCCC', 'CCBFCFCBB', 'CBFFCCBBB'],\n",
        "  ['BBBCFBCFC', 'CCCCBCCCC', 'BBBBBBCBC', 'CCCCBCCBB', 'CCBCCCCCC', 'CCCFFCBCC', 'CCFCCCCCC', 'CBCBCBBBB', 'CBFFCCFBB'],\n",
        "   ['BCCCFBBCB', 'BCCCCBCCC', 'CBBCCBBCB', 'CCCBCBCBC', 'BBCCBCBBC', 'CFCFCBCCF', 'CCCCCCFCC', 'CBFFFBCFC', 'BBFFCCCBB'],\n",
        "  ['BCBCBBBBC', 'CCCCCBCCC', 'CBBBBBCCB', 'CCCCCCCCC', 'CCBCCCBBC', 'CFCFCBCCC', 'CCFCCCCCC', 'CBCCCBCFB', 'CBBFCCBBC']]"
      ]
    },
    {
      "cell_type": "code",
      "source": [
        "class CustomFrozenLakeEnv(gym.Env):\n",
        "    def __init__(self,depth_data,land_data):\n",
        "        self.desc = land_data\n",
        "\n",
        "        self.visited = set()\n",
        "        self.flag = 0\n",
        "        # Generate random depths between 0.5 and 5 for 'C' blocks\n",
        "        self.depth_map = np.array(depth_data)\n",
        "        self.ncols = self.depth_map[0].shape[0]\n",
        "        self.colm = self.ncols\n",
        "        self.nrows = 9\n",
        "        self.nS = 81\n",
        "        self.nA = 8  # Define the number of actions (left, down, right, up)\n",
        "        self.start_state = self._get_state(row=4, col=4)\n",
        "        min_depth_point = np.unravel_index(np.argmin(self.depth_map), self.depth_map.shape)\n",
        "        self.thersold = 0.5\n",
        "        self.goal_state = self._get_state(row=min_depth_point[0], col=min_depth_point[1])\n",
        "        self.state = None\n",
        "        self.action_space = gym.spaces.Discrete(self.nA)  # Define the action space\n",
        "        self.observation_space = gym.spaces.Discrete(self.nS)  # Define the observation space\n",
        "        self.reset()\n",
        "\n",
        "    def _get_state(self, row, col):\n",
        "        \"\"\"Converts row and column coordinates to a state index.\"\"\"\n",
        "        return row * 9 + col\n",
        "\n",
        "    def reset(self):\n",
        "        self.state = self.start_state\n",
        "        self.visited = set()\n",
        "        return self._get_obs(self.state)\n",
        "\n",
        "    def _get_obs(self, state):\n",
        "        \"\"\"Returns the observation (state index) for the current state.\"\"\"\n",
        "        return state\n",
        "\n",
        "    def step(self, action):\n",
        "        prev_state = self.state\n",
        "        state = self.state\n",
        "        reward = 0\n",
        "        done = False\n",
        "        # Probabilistic movement (same as standard FrozenLake)\n",
        "        if np.random.rand() < 0.1:\n",
        "          # Generate random changes for both row and column directions independently\n",
        "          row_change = np.random.randint(-1, 2)\n",
        "          col_change = np.random.randint(-1, 2)\n",
        "\n",
        "          # Update the state by adding the random changes to row and column indices\n",
        "          new_row = (state // self.ncols + row_change) % self.nrows\n",
        "          new_col = (state % self.ncols + col_change) % self.ncols\n",
        "          state = new_row * self.ncols + new_col\n",
        "\n",
        "        else:\n",
        "            self.flag = 0\n",
        "            new_state = state\n",
        "            if action == 0:\n",
        "                # Move left\n",
        "              new_state -= 1\n",
        "              if state % 9 == 0:\n",
        "                flag = -1\n",
        "            elif action == 1:\n",
        "\n",
        "                # Move right\n",
        "              new_state += 1\n",
        "              if (state+1) % 9 == 0:\n",
        "                flag = -1\n",
        "            elif action == 2:\n",
        "                # Move up\n",
        "                new_state = (state // 9 - 1) * 9 + state % 9\n",
        "                if state < 9:\n",
        "                  flag = -1\n",
        "            elif action == 3:\n",
        "                # Move down\n",
        "                new_state = (state // 9 + 1) * 9 + state % 9\n",
        "                if state > 71:\n",
        "                  flag = -1\n",
        "            elif action == 4:\n",
        "                # Move up-left (diagonal)\n",
        "                new_state = (state // 9 - 1) * 9 + (state % 9 - 1)\n",
        "                if state < 9 or state % 9 == 0:\n",
        "                  flag = -1\n",
        "            elif action == 5:\n",
        "                # Move up-right (diagonal)\n",
        "                new_state = (state // 9 - 1) * 9 + (state % 9 + 1)\n",
        "                if state < 9 or (state+1)%9 == 0:\n",
        "                  flag = -1\n",
        "            elif action == 6:\n",
        "                # Move down-left (diagonal)\n",
        "                new_state = (state // 9 + 1) * 9 + (state % 9 - 1)\n",
        "                if state > 71 or state % 9 == 0:\n",
        "                  flag = -1\n",
        "            elif action == 7:\n",
        "                # Move down-right (diagonal)\n",
        "                new_state = (state // 9 + 1) * 9 + (state % 9 + 1)\n",
        "                if state > 71 or (state+1)%9 == 0:\n",
        "                  flag = -1\n",
        "            if 0 <= new_state < self.nS and self.flag == 0:\n",
        "                state = new_state\n",
        "        if 0 > state or state>=self.nS or self.flag == -1:\n",
        "            reward += -(0.5) * reward\n",
        "            done = True\n",
        "            return self._get_obs(state), reward , done, {}\n",
        "        if int(state) in self.visited:\n",
        "            reward += -(0.5) * reward\n",
        "            done = True\n",
        "            return self._get_obs(state), reward , done, {}\n",
        "        self.visited.add(int(state))\n",
        "        # Update depth reward\n",
        "        desc = np.array(list(''.join(self.desc))).reshape(9,9)\n",
        "        crow = int(state / self.colm)\n",
        "        ccol =  state % self.colm\n",
        "        prow = int(prev_state / self.colm)\n",
        "        pcol =  prev_state % self.colm\n",
        "        if desc[crow][ccol] == 'F':\n",
        "          reward += -(reward*0.3)\n",
        "        if desc[crow][ccol] == 'B':\n",
        "          reward += -(reward*0.5)\n",
        "        if self.depth_map[crow,ccol] <= self.thersold:\n",
        "          reward+=1e5\n",
        "          done = True\n",
        "        reward+=(((self.depth_map[prow,pcol]-self.depth_map[crow,ccol])+0.2)*reward)\n",
        "        if self.thersold < (self.depth_map[crow,ccol] - self.depth_map[prow,pcol]):\n",
        "          reward += -(0.4*reward)\n",
        "        # Check for terminal states (hole or goal)\n",
        "        if state == self.goal_state:\n",
        "            reward = 1e5\n",
        "            done = True\n",
        "        self.state = state\n",
        "        return self._get_obs(state), reward, done, {}\n",
        "    def render(self, mode='human'):\n",
        "        \"\"\"Renders a text-based representation of the environment.\"\"\"\n",
        "        if mode == 'human':\n",
        "            desc = np.array(list(''.join(self.desc))).reshape(9,9)\n",
        "            for i in range(9):\n",
        "                for j in range(9):\n",
        "                    if self.state == self._get_state(i, j):\n",
        "                        desc[i, j] = desc[i, j].lower()  # Highlight current state\n",
        "                print(''.join(desc[i]))\n",
        "        else:\n",
        "            super().render(mode=mode)  # Default rendering for compatibility (optional)\n",
        "# Example usage\n",
        "env = CustomFrozenLakeEnv(environments[999],land_data)\n",
        "state = env.reset()\n",
        "done = False\n",
        "# model = DQN(\"MlpPolicy\", env, verbose=1)\n",
        "# model.learn(total_timesteps=400000)\n",
        "# Save the trained model\n",
        "# model.save(\"trained_dqn\")\n"
      ],
      "metadata": {
        "id": "8dwaSxb0nmIC"
      },
      "execution_count": null,
      "outputs": []
    },
    {
      "cell_type": "code",
      "source": [
        "import torch\n",
        "import torch.nn as nn\n",
        "\n",
        "class DQN(nn.Module):\n",
        "    def __init__(self, input_channels, num_actions):\n",
        "        super(DQN, self).__init__()\n",
        "\n",
        "        # Convolutional layers\n",
        "        self.conv1 = nn.Conv2d(in_channels=input_channels, out_channels=16, kernel_size=3, stride=1)\n",
        "        self.conv2 = nn.Conv2d(in_channels=16, out_channels=32, kernel_size=2, stride=1)\n",
        "\n",
        "        # Fully connected layers\n",
        "        self.fc1 = nn.Linear(in_features=32 * 6 * 6, out_features=256)\n",
        "        self.fc2 = nn.Linear(in_features=256, out_features=num_actions)\n",
        "\n",
        "        # Activation function\n",
        "        self.relu = nn.ReLU()\n",
        "\n",
        "    def forward(self, x):\n",
        "        # Input shape: (batch_size, input_channels, 9, 9)\n",
        "        x = self.relu(self.conv1(x))  # Output shape: (batch_size, 16, 7, 7)\n",
        "        x = self.relu(self.conv2(x))  # Output shape: (batch_size, 32, 6, 6)\n",
        "        x = x.view(x.size(0), -1)     # Flatten the output for fully connected layers\n",
        "        x = self.relu(self.fc1(x))     # Output shape: (batch_size, 256)\n",
        "        x = self.fc2(x)                # Output shape: (batch_size, num_actions)\n",
        "        return x"
      ],
      "metadata": {
        "id": "tBzOYK-27yCc"
      },
      "execution_count": null,
      "outputs": []
    },
    {
      "cell_type": "code",
      "source": [
        "# from stable_baselines3 import DQN\n",
        "\n",
        "# # Assuming the model was saved as \"trained_dqn_env_0.zip\"\n",
        "model_path = \"/content/trained_dqn (4).zip\"\n",
        "\n",
        "# # Load the model\n",
        "model = DQN.load(model_path)\n",
        "\n",
        "# # You can now use the loaded model for inference or further training\n"
      ],
      "metadata": {
        "id": "UQluUkdDf2ys"
      },
      "execution_count": null,
      "outputs": []
    },
    {
      "cell_type": "code",
      "source": [
        "test1 = CustomFrozenLakeEnv(environments[921],land_data)\n",
        "environments[920]"
      ],
      "metadata": {
        "id": "WrsOTFa3gkxC",
        "colab": {
          "base_uri": "https://localhost:8080/"
        },
        "outputId": "0590144e-4fb9-4e43-911c-1ea8f87c389d"
      },
      "execution_count": null,
      "outputs": [
        {
          "output_type": "execute_result",
          "data": {
            "text/plain": [
              "array([[4.56231165, 4.59525585, 4.17099047, 3.74672461, 3.4775424 ,\n",
              "        3.171525  , 2.86550713, 2.69405651, 2.78652573],\n",
              "       [4.445436  , 4.43299723, 3.99433565, 3.56707907, 3.13137007,\n",
              "        2.80391502, 2.49645805, 2.31206894, 2.4452095 ],\n",
              "       [4.25266123, 4.24021769, 3.76410818, 3.27659464, 2.84088135,\n",
              "        2.46914482, 2.07740974, 1.89301395, 2.09473038],\n",
              "       [4.04675627, 4.04446745, 3.52248907, 3.00051117, 2.54896355,\n",
              "        2.11437702, 1.67979145, 1.47395229, 1.78311348],\n",
              "       [3.74312925, 3.79765701, 3.32827187, 2.81087208, 2.46835327,\n",
              "        2.04738808, 1.61278915, 1.42047119, 1.70013714],\n",
              "       [3.36784601, 3.42236519, 3.11062622, 2.84690189, 2.50437069,\n",
              "        2.11603737, 1.74057102, 1.5490036 , 1.76611137],\n",
              "       [3.0023241 , 3.05166149, 2.94099617, 2.83032894, 2.54039001,\n",
              "        2.19755363, 1.85548306, 1.67753696, 1.80599308],\n",
              "       [2.93424225, 3.08812189, 2.99835873, 2.88768196, 2.80772877,\n",
              "        2.50444031, 2.16235733, 1.99112606, 2.04696178],\n",
              "       [3.03457642, 3.18844986, 3.17417526, 3.17921734, 3.10085011,\n",
              "        2.91043568, 2.75041485, 2.58757305, 2.48199844]])"
            ]
          },
          "metadata": {},
          "execution_count": 25
        }
      ]
    },
    {
      "cell_type": "code",
      "source": [
        "obs = test1.reset()\n",
        "# test1.render()\n",
        "new_state = 40\n",
        "print(environments[921][4][4])\n",
        "# Run the inference loop until the episode is done\n",
        "while True:\n",
        "    # Use the model to predict the action given the current observation\n",
        "    action, _ = model.predict(obs)\n",
        "    state = new_state\n",
        "    print(action)\n",
        "    if action == 0:\n",
        "        # Move left\n",
        "      new_state -= 1\n",
        "    elif action == 1:\n",
        "        # Move right\n",
        "        new_state += 1\n",
        "    elif action == 2:\n",
        "        # Move up\n",
        "        new_state = (state // 9 - 1) * 9 + state % 9\n",
        "    elif action == 3:\n",
        "        # Move down\n",
        "        new_state = (state // 9 + 1) * 9 + state % 9\n",
        "    elif action == 4:\n",
        "        # Move up-left (diagonal)\n",
        "        new_state = (state // 9 - 1) * 9 + (state % 9 - 1)\n",
        "    elif action == 5:\n",
        "        # Move up-right (diagonal)\n",
        "        new_state = (state // 9 - 1) * 9 + (state % 9 + 1)\n",
        "    elif action == 6:\n",
        "        # Move down-left (diagonal)\n",
        "        new_state = (state // 9 + 1) * 9 + (state % 9 - 1)\n",
        "    elif action == 7:\n",
        "        # Move down-right (diagonal)\n",
        "        new_state = (state // 9 + 1) * 9 + (state % 9 + 1)\n",
        "\n",
        "    print(environments[921][int(new_state/9)][new_state%9])\n",
        "    # Take the predicted action and get the next observation, reward, and done flag\n",
        "    obs, reward, done, _ = test1.step(action)\n",
        "\n",
        "    # Render the environment to visualize the agent's actions\n",
        "    # test1.render()\n",
        "\n",
        "    # Check if the episode is done\n",
        "    if done:\n",
        "        break\n",
        "\n",
        "# Close the environment\n",
        "test1.close()"
      ],
      "metadata": {
        "colab": {
          "base_uri": "https://localhost:8080/"
        },
        "id": "MI0n2trNf7IP",
        "outputId": "45314b96-3256-4528-f04d-605add02c43d"
      },
      "execution_count": null,
      "outputs": [
        {
          "output_type": "stream",
          "name": "stdout",
          "text": [
            "2.0473880767822266\n",
            "0\n",
            "2.468353271484375\n",
            "0\n",
            "2.8108720779418945\n",
            "0\n",
            "3.3282718658447266\n",
            "3\n",
            "3.110626220703125\n",
            "0\n",
            "3.422365188598633\n",
            "0\n",
            "2.0110435485839844\n",
            "0\n",
            "1.7001371383666992\n",
            "0\n",
            "1.42047119140625\n"
          ]
        }
      ]
    },
    {
      "cell_type": "code",
      "source": [],
      "metadata": {
        "id": "qbL-880N2KK8"
      },
      "execution_count": null,
      "outputs": []
    },
    {
      "cell_type": "code",
      "source": [
        "import numpy as np\n",
        "import matplotlib.pyplot as plt\n",
        "\n",
        "def visualize_land_data(land_data, person_pos=None):\n",
        "    # Define color mappings\n",
        "    color_map = {'C': (0, 0.5, 0), 'B': (1, 0, 0), 'F': (1, 0.5, 0)}\n",
        "\n",
        "    # Create a 9x9 matrix to represent the image\n",
        "    image = np.zeros((9, 9, 3))\n",
        "\n",
        "    # Map land_data characters to colors\n",
        "    for i in range(9):\n",
        "        for j in range(9):\n",
        "            if land_data[i][j] in color_map:\n",
        "                color = color_map[land_data[i][j]]\n",
        "                image[i, j] = color\n",
        "\n",
        "    # If person position is specified, color it blue\n",
        "    if person_pos is not None:\n",
        "        person_i, person_j = person_pos\n",
        "        image[person_i, person_j] = (0, 0, 1)\n",
        "\n",
        "    # Create the plot\n",
        "    plt.figure(figsize=(8, 8))\n",
        "    plt.imshow(image)\n",
        "    plt.axis('off')\n",
        "    plt.show()\n",
        "\n",
        "def move_person(points, land_data):\n",
        "    # Create a copy of land_data to track the movements\n",
        "    land_data_with_person = [list(row) for row in land_data]\n",
        "\n",
        "    # Move person sequentially through each point\n",
        "    for i in range(1, len(points)):\n",
        "        start_i, start_j = points[i - 1]\n",
        "        end_i, end_j = points[i]\n",
        "\n",
        "        current_i, current_j = start_i, start_j\n",
        "        while current_i != end_i or current_j != end_j:\n",
        "            # Update person's position\n",
        "            land_data_with_person[current_i][current_j] = 'P'\n",
        "\n",
        "            # Move person horizontally\n",
        "            if current_j < end_j:\n",
        "                current_j += 1\n",
        "            elif current_j > end_j:\n",
        "                current_j -= 1\n",
        "\n",
        "            # Move person vertically\n",
        "            if current_i < end_i:\n",
        "                current_i += 1\n",
        "            elif current_i > end_i:\n",
        "                current_i -= 1\n",
        "\n",
        "    # Visualize final state\n",
        "    visualize_land_data(land_data_with_person)\n",
        "\n",
        "\n",
        "\n",
        "\n",
        "# Example land data\n",
        "land_data =['BCBCFBBFC',\n",
        "           'CCCCBBCCC',\n",
        "           'CBBCBBCCB',\n",
        "           'CCCCCCBCC',\n",
        "           'CCCCCCBBC',\n",
        "           'CFCFCCBCC',\n",
        "           'CCFCCCCCC',\n",
        "           'CBCFCBCFB',\n",
        "           'CBFFCCBBB']\n",
        "visualize_land_data(land_data)\n",
        "# Example: Move person through a list of points\n",
        "move_person([(4,4),(3,3),(3,2),(3,1),(3,0)], land_data)"
      ],
      "metadata": {
        "colab": {
          "base_uri": "https://localhost:8080/",
          "height": 1000
        },
        "id": "1hjPffMd6RiF",
        "outputId": "c890e1e4-a101-4cce-ad55-2ef5ae2b3083"
      },
      "execution_count": null,
      "outputs": [
        {
          "output_type": "display_data",
          "data": {
            "text/plain": [
              "<Figure size 800x800 with 1 Axes>"
            ],
            "image/png": "[encoded data removed]"
          },
          "metadata": {}
        },
        {
          "output_type": "display_data",
          "data": {
            "text/plain": [
              "<Figure size 800x800 with 1 Axes>"
            ],
            "image/png": "[encoded data removed]"
          },
          "metadata": {}
        }
      ]
    },
    {
      "cell_type": "code",
      "source": [
        "import numpy as np\n",
        "import matplotlib.pyplot as plt\n",
        "import matplotlib.patches as patches\n",
        "\n",
        "def visualize_land_data_with_arrows(land_data, points):\n",
        "    # Define color mappings\n",
        "    color_map = {'C': (0, 0.5, 0), 'B': (1, 0, 0), 'F': (1, 0.5, 0)}\n",
        "\n",
        "    # Create a 9x9 matrix to represent the image\n",
        "    image = np.zeros((9, 9, 3))\n",
        "\n",
        "    # Map land_data characters to colors\n",
        "    for i in range(9):\n",
        "        for j in range(9):\n",
        "            if land_data[i][j] in color_map:\n",
        "                color = color_map[land_data[i][j]]\n",
        "                image[i, j] = color\n",
        "\n",
        "    # Plot the image\n",
        "    plt.figure(figsize=(8, 8))\n",
        "    plt.imshow(image)\n",
        "    ax = plt.gca()\n",
        "    ax.axis('off')\n",
        "\n",
        "    # Plot arrows between consecutive points\n",
        "    for i in range(len(points)-1):\n",
        "        start = points[i]\n",
        "        end = points[i + 1]\n",
        "        dx = end[1] - start[1]\n",
        "        dy = end[0] - start[0]\n",
        "        ax.arrow(start[1], start[0], dx, dy, head_width=0.2, head_length=0.2, fc='blue', ec='blue')\n",
        "\n",
        "    plt.show()\n",
        "\n",
        "def move_person(points, land_data):\n",
        "    # Create a copy of land_data to track the movements\n",
        "    land_data_with_person = [list(row) for row in land_data]\n",
        "\n",
        "    # Move person sequentially through each point\n",
        "    for i in range(1, len(points)):\n",
        "        start_i, start_j = points[i - 1]\n",
        "        end_i, end_j = points[i]\n",
        "\n",
        "        current_i, current_j = start_i, start_j\n",
        "        while current_i != end_i or current_j != end_j:\n",
        "            # Update person's position\n",
        "            land_data_with_person[current_i][current_j] = 'P'\n",
        "\n",
        "            # Move person horizontally\n",
        "            if current_j < end_j:\n",
        "                current_j += 1\n",
        "            elif current_j > end_j:\n",
        "                current_j -= 1\n",
        "\n",
        "            # Move person vertically\n",
        "            if current_i < end_i:\n",
        "                current_i += 1\n",
        "            elif current_i > end_i:\n",
        "                current_i -= 1\n",
        "\n",
        "    # Visualize final state with arrows\n",
        "    visualize_land_data_with_arrows(land_data_with_person, points)\n",
        "\n",
        "# Example land data\n",
        "land_data =['BCBCFBBFC',\n",
        "           'CCCCBBCCC',\n",
        "           'CBBCBBCCB',\n",
        "           'CCCCCCBCC',\n",
        "           'CCCCCCBBC',\n",
        "           'CFCFCCBCC',\n",
        "           'CCFCCCCCC',\n",
        "           'CBCFCBCFB',\n",
        "           'CBFFCCBBB']\n",
        "visualize_land_data(land_data)\n",
        "# Example: Move person through a list of points\n",
        "move_person([(4,4),(3,3),(2,3),(1,3),(1,2),(1,1),(1,0)], land_data)\n"
      ],
      "metadata": {
        "colab": {
          "base_uri": "https://localhost:8080/",
          "height": 1000
        },
        "id": "9xtfpnB7G6DX",
        "outputId": "50dac23f-e4d5-457d-c9b9-8d8139c6a1f6"
      },
      "execution_count": null,
      "outputs": [
        {
          "output_type": "display_data",
          "data": {
            "text/plain": [
              "<Figure size 800x800 with 1 Axes>"
            ],
            "image/png": "[encoded data removed]"
          },
          "metadata": {}
        },
        {
          "output_type": "display_data",
          "data": {
            "text/plain": [
              "<Figure size 800x800 with 1 Axes>"
            ],
            "image/png": "[encoded data removed]"
          },
          "metadata": {}
        }
      ]
    },
    {
      "cell_type": "code",
      "source": [
        "import numpy as np\n",
        "import matplotlib.pyplot as plt\n",
        "\n",
        "def visualize_land_data_with_legend(land_data, road_color):\n",
        "    # Define color mappings\n",
        "    color_map = {'C': (0, 0.5, 0), 'B': (1, 0, 0), 'F': (1, 0.5, 0)}\n",
        "\n",
        "    # Create a 9x9 matrix to represent the image\n",
        "    image = np.zeros((9, 9, 3))\n",
        "\n",
        "    # Map land_data characters to colors\n",
        "    for i in range(9):\n",
        "        for j in range(9):\n",
        "            if land_data[i][j] in color_map:\n",
        "                color = color_map[land_data[i][j]]\n",
        "                image[i, j] = color\n",
        "\n",
        "    # Create the plot\n",
        "    plt.figure(figsize=(8, 8))\n",
        "    plt.imshow(image)\n",
        "\n",
        "    # Create legend\n",
        "    legend_elements = [\n",
        "        plt.Line2D([0], [0], marker='s', color='w', label='Cell with Road', markerfacecolor=road_color, markersize=10),\n",
        "        plt.Line2D([0], [0], marker='s', color='w', label='Building', markerfacecolor='red', markersize=10),\n",
        "        plt.Line2D([0], [0], marker='s', color='w', label='Cell with out Road', markerfacecolor='orange', markersize=10)\n",
        "    ]\n",
        "    plt.legend(handles=legend_elements, loc='upper right')\n",
        "\n",
        "    plt.axis('off')\n",
        "    plt.savefig('land_data_with_legend.png', bbox_inches='tight')  # Save the image with legend\n",
        "    plt.close()\n",
        "\n",
        "# Example land data\n",
        "land_data =['BCBCFBBFC',\n",
        "           'CCCCBBCCC',\n",
        "           'CBBCBBCCB',\n",
        "           'CCCCCCBCC',\n",
        "           'CCCCCCBBC',\n",
        "           'CFCFCCBCC',\n",
        "           'CCFCCCCCC',\n",
        "           'CBCFCBCFB',\n",
        "           'CBFFCCBBB']\n",
        "road_color = 'green'  # Specify the color for the road\n",
        "\n",
        "# Visualize land data with legend\n",
        "visualize_land_data_with_legend(land_data, road_color)\n",
        "\n"
      ],
      "metadata": {
        "id": "I8vJ4QULLE7s"
      },
      "execution_count": null,
      "outputs": []
    }
  ]
}